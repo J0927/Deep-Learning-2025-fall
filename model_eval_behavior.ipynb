{
  "nbformat": 4,
  "nbformat_minor": 0,
  "metadata": {
    "colab": {
      "provenance": [],
      "gpuType": "T4",
      "include_colab_link": true
    },
    "kernelspec": {
      "name": "python3",
      "display_name": "Python 3"
    },
    "language_info": {
      "name": "python"
    },
    "accelerator": "GPU"
  },
  "cells": [
    {
      "cell_type": "markdown",
      "metadata": {
        "id": "view-in-github",
        "colab_type": "text"
      },
      "source": [
        "<a href=\"https://colab.research.google.com/github/J0927/Deep-Learning-2025-fall/blob/main/model_eval_behavior.ipynb\" target=\"_parent\"><img src=\"https://colab.research.google.com/assets/colab-badge.svg\" alt=\"Open In Colab\"/></a>"
      ]
    },
    {
      "cell_type": "code",
      "execution_count": null,
      "metadata": {
        "id": "8J0qDcK3M_RR"
      },
      "outputs": [],
      "source": [
        "import torch.nn as nn\n",
        "import torchvision"
      ]
    },
    {
      "cell_type": "code",
      "source": [
        "model = torchvision.models.vgg16_bn(pretrained=True)"
      ],
      "metadata": {
        "colab": {
          "base_uri": "https://localhost:8080/"
        },
        "id": "iKcRIFaQNdu-",
        "outputId": "535c1b1e-f688-4d4c-c2a8-fc77772b062d"
      },
      "execution_count": null,
      "outputs": [
        {
          "output_type": "stream",
          "name": "stderr",
          "text": [
            "/usr/local/lib/python3.12/dist-packages/torchvision/models/_utils.py:208: UserWarning: The parameter 'pretrained' is deprecated since 0.13 and may be removed in the future, please use 'weights' instead.\n",
            "  warnings.warn(\n",
            "/usr/local/lib/python3.12/dist-packages/torchvision/models/_utils.py:223: UserWarning: Arguments other than a weight enum or `None` for 'weights' are deprecated since 0.13 and may be removed in the future. The current behavior is equivalent to passing `weights=VGG16_BN_Weights.IMAGENET1K_V1`. You can also use `weights=VGG16_BN_Weights.DEFAULT` to get the most up-to-date weights.\n",
            "  warnings.warn(msg)\n"
          ]
        }
      ]
    },
    {
      "cell_type": "code",
      "source": [
        "print(model.training)"
      ],
      "metadata": {
        "colab": {
          "base_uri": "https://localhost:8080/"
        },
        "id": "IyC9A7sbNjDu",
        "outputId": "06bcae6e-c554-417d-e691-51622d7c5182"
      },
      "execution_count": null,
      "outputs": [
        {
          "output_type": "stream",
          "name": "stdout",
          "text": [
            "True\n"
          ]
        }
      ]
    },
    {
      "cell_type": "code",
      "source": [
        "target_layer = dict(model.named_modules())[\"features.11\"]\n",
        "target_layer.eval()\n",
        "\n",
        "for name, module in model.named_modules():\n",
        "    if isinstance(module, nn.Dropout) or isinstance(module, nn.BatchNorm2d):\n",
        "        print(name, module, module.training)"
      ],
      "metadata": {
        "colab": {
          "base_uri": "https://localhost:8080/"
        },
        "id": "nt1_c_YTQTh3",
        "outputId": "e3e86288-be68-40f2-c7b0-44c98654da84"
      },
      "execution_count": null,
      "outputs": [
        {
          "output_type": "stream",
          "name": "stdout",
          "text": [
            "features.1 BatchNorm2d(64, eps=1e-05, momentum=0.1, affine=True, track_running_stats=True) True\n",
            "features.4 BatchNorm2d(64, eps=1e-05, momentum=0.1, affine=True, track_running_stats=True) True\n",
            "features.8 BatchNorm2d(128, eps=1e-05, momentum=0.1, affine=True, track_running_stats=True) True\n",
            "features.11 BatchNorm2d(128, eps=1e-05, momentum=0.1, affine=True, track_running_stats=True) False\n",
            "features.15 BatchNorm2d(256, eps=1e-05, momentum=0.1, affine=True, track_running_stats=True) True\n",
            "features.18 BatchNorm2d(256, eps=1e-05, momentum=0.1, affine=True, track_running_stats=True) True\n",
            "features.21 BatchNorm2d(256, eps=1e-05, momentum=0.1, affine=True, track_running_stats=True) True\n",
            "features.25 BatchNorm2d(512, eps=1e-05, momentum=0.1, affine=True, track_running_stats=True) True\n",
            "features.28 BatchNorm2d(512, eps=1e-05, momentum=0.1, affine=True, track_running_stats=True) True\n",
            "features.31 BatchNorm2d(512, eps=1e-05, momentum=0.1, affine=True, track_running_stats=True) True\n",
            "features.35 BatchNorm2d(512, eps=1e-05, momentum=0.1, affine=True, track_running_stats=True) True\n",
            "features.38 BatchNorm2d(512, eps=1e-05, momentum=0.1, affine=True, track_running_stats=True) True\n",
            "features.41 BatchNorm2d(512, eps=1e-05, momentum=0.1, affine=True, track_running_stats=True) True\n",
            "classifier.2 Dropout(p=0.5, inplace=False) True\n",
            "classifier.5 Dropout(p=0.5, inplace=False) True\n"
          ]
        }
      ]
    },
    {
      "cell_type": "code",
      "source": [
        "print(model.training)"
      ],
      "metadata": {
        "colab": {
          "base_uri": "https://localhost:8080/"
        },
        "id": "UiBaL7oNRAKl",
        "outputId": "560146f3-ce9e-4875-a3e7-7c9e6f03d3e7"
      },
      "execution_count": null,
      "outputs": [
        {
          "output_type": "stream",
          "name": "stdout",
          "text": [
            "True\n"
          ]
        }
      ]
    },
    {
      "cell_type": "code",
      "source": [
        "model.eval()\n",
        "for name, module in model.named_modules():\n",
        "    if isinstance(module, nn.Dropout) or isinstance(module, nn.BatchNorm2d):\n",
        "        print(name, module, module.training)"
      ],
      "metadata": {
        "colab": {
          "base_uri": "https://localhost:8080/"
        },
        "id": "DEbMS80CNsGl",
        "outputId": "f2fd8df8-b412-44df-f4df-b5bde9f67779"
      },
      "execution_count": null,
      "outputs": [
        {
          "output_type": "stream",
          "name": "stdout",
          "text": [
            "features.1 BatchNorm2d(64, eps=1e-05, momentum=0.1, affine=True, track_running_stats=True) False\n",
            "features.4 BatchNorm2d(64, eps=1e-05, momentum=0.1, affine=True, track_running_stats=True) False\n",
            "features.8 BatchNorm2d(128, eps=1e-05, momentum=0.1, affine=True, track_running_stats=True) False\n",
            "features.11 BatchNorm2d(128, eps=1e-05, momentum=0.1, affine=True, track_running_stats=True) False\n",
            "features.15 BatchNorm2d(256, eps=1e-05, momentum=0.1, affine=True, track_running_stats=True) False\n",
            "features.18 BatchNorm2d(256, eps=1e-05, momentum=0.1, affine=True, track_running_stats=True) False\n",
            "features.21 BatchNorm2d(256, eps=1e-05, momentum=0.1, affine=True, track_running_stats=True) False\n",
            "features.25 BatchNorm2d(512, eps=1e-05, momentum=0.1, affine=True, track_running_stats=True) False\n",
            "features.28 BatchNorm2d(512, eps=1e-05, momentum=0.1, affine=True, track_running_stats=True) False\n",
            "features.31 BatchNorm2d(512, eps=1e-05, momentum=0.1, affine=True, track_running_stats=True) False\n",
            "features.35 BatchNorm2d(512, eps=1e-05, momentum=0.1, affine=True, track_running_stats=True) False\n",
            "features.38 BatchNorm2d(512, eps=1e-05, momentum=0.1, affine=True, track_running_stats=True) False\n",
            "features.41 BatchNorm2d(512, eps=1e-05, momentum=0.1, affine=True, track_running_stats=True) False\n",
            "classifier.2 Dropout(p=0.5, inplace=False) False\n",
            "classifier.5 Dropout(p=0.5, inplace=False) False\n"
          ]
        }
      ]
    },
    {
      "cell_type": "code",
      "source": [
        "print(model.training)"
      ],
      "metadata": {
        "colab": {
          "base_uri": "https://localhost:8080/"
        },
        "id": "KKaUN1WuNyUz",
        "outputId": "d9a4fd21-d75b-446c-ca21-4ba0594716e0"
      },
      "execution_count": null,
      "outputs": [
        {
          "output_type": "stream",
          "name": "stdout",
          "text": [
            "False\n"
          ]
        }
      ]
    }
  ]
}